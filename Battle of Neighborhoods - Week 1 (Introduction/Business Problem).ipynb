{
    "cells": [
        {
            "cell_type": "markdown",
            "metadata": {},
            "source": "# Coursera Capstone Project\n\n## The Battle of Neighborhoods (Week 1)\n"
        },
        {
            "cell_type": "markdown",
            "metadata": {},
            "source": "### Part 1 : Introduction and Data Sections"
        },
        {
            "cell_type": "code",
            "execution_count": 18,
            "metadata": {},
            "outputs": [
                {
                    "name": "stdout",
                    "output_type": "stream",
                    "text": "Fetching package metadata .............\nSolving package specifications: .\n\n# All requested packages already installed.\n# packages in environment at /opt/conda/envs/DSX-Python35:\n#\nfolium                    0.5.0                      py_0    conda-forge\nLibraries imported.\n"
                }
            ],
            "source": "import numpy as np # library to handle data in a vectorized manner\nimport time\nimport pandas as pd # library for data analsysis\npd.set_option('display.max_columns', None)\npd.set_option('display.max_rows', None)\n\nimport json # library to handle JSON files\nimport requests # library to handle requests\nfrom pandas.io.json import json_normalize # tranform JSON file into a pandas dataframe\n\nfrom geopy.geocoders import Nominatim # convert an address into latitude and longitude values\n!conda install -c conda-forge folium=0.5.0 --yes # uncomment this line if you haven't completed the Foursquare API lab\nimport folium # map rendering library\n\nprint('Libraries imported.')"
        },
        {
            "cell_type": "markdown",
            "metadata": {},
            "source": "### Coursera Capstone - REPORT CONTENT\n\n1.\tIntroduction Section : \n\t\u2043\tDiscussion of the business problem and the interested audience in this project.\n2.\tData Section:  \n\t\u2043\t Description of the data that will be used to solve the problem and the sources.\n3.\tMethodology section \n\t\u2043\tDiscussion and description of exploratory data analysis carried out, any inferential statistical testing performed, and if any machine learnings were used establishing the strategy and purposes.\n4.\tResults section \n\t\u2043\tDiscussion of the results.\n5.\tDiscussion section \n\t\u2043\tElaboration and discussion on any observations noted and any recommendations suggested based on the results.\n6.\tConclusion section \n\t\u2043\tReport Conclusion."
        },
        {
            "cell_type": "markdown",
            "metadata": {},
            "source": "# 1.\tIntroduction Section : \n### Discussion of the business problem and the audience who would be interested in this project.\n"
        },
        {
            "cell_type": "markdown",
            "metadata": {},
            "source": "### Description of the Problem and Background\n\n### Scenario:\n\nI am a data scientist residing in Downtown Singapore. \nI currently live within walking distance to Downtown Telok Ayer MRT metro station and I enjoy many ammenities and venues in the area, such as various international cousine restaurants, cafes, food shops and entertainment.\nI have been offered a great opportunity to work for a leader firm in Manhattan, NY. I am very excited and I want to use this opportunity to practice my learnings in Coursera in order to answer relevant questions arisen.\nThe key question is :  How can I find a convenient and enjoyable place similar to mine now in Singapore?\nCertainly, I can use available real estate apps and Google but the idea is to use and apply myself the learned tools during the course.\nIn order to make a comparison and evaluation of the rental options in Manhattan NY, I must set some basis, therefore the apartment in Manhattan must meet the following demands:\n - apartment must be 2 or 3 bedrooms\n - desired location is near a metro station in the Manhattan area and within 1.0 mile (1.6 km) radius\n - price of rent not exceed $7,000 per month\n - top ammenities in the selected neighborhood shall be similar to current residence\n - desirable to have venues such as coffee shops, restaurants Asian Thai, wine stores, gym and food shops\n - as a reference, I have included a map of venues near current residence in Singapore.\n    "
        },
        {
            "cell_type": "markdown",
            "metadata": {},
            "source": "### Business Problem:   \nThe challenge is to find a suitable apartment for rent in Manhattan NY that complies with the demands on location, price and venues. The data required to resolve this challenge is described in the following section 2, below.\n\n\n### Interested Audience\nI believe this is a relevant challenge with valid questions for anyone moving to other large city in US, EU or Asia. The same methodology can be applied in accordance to demands as applicable. This case is also applicable for anyone interested in exploring starting or locating a new business in any city. Lastly, it can also serve as a good practical exercise to develop Data Science skills.\n"
        }
    ],
    "metadata": {
        "kernelspec": {
            "display_name": "Python 3.6",
            "language": "python",
            "name": "python3"
        },
        "language_info": {
            "codemirror_mode": {
                "name": "ipython",
                "version": 3
            },
            "file_extension": ".py",
            "mimetype": "text/x-python",
            "name": "python",
            "nbconvert_exporter": "python",
            "pygments_lexer": "ipython3",
            "version": "3.6.9"
        }
    },
    "nbformat": 4,
    "nbformat_minor": 2
}